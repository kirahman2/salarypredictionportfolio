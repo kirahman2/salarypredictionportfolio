{
 "cells": [
  {
   "cell_type": "code",
   "execution_count": 1,
   "metadata": {},
   "outputs": [
    {
     "data": {
      "text/plain": [
       "'This salary prediction model pulls job data and predicts salaries across multiple models. \\n    It then saves the model and produces a prediction file.'"
      ]
     },
     "execution_count": 1,
     "metadata": {},
     "output_type": "execute_result"
    }
   ],
   "source": [
    "'''This salary prediction model pulls job data and predicts salaries across multiple models. \n",
    "    It then saves the model and produces a prediction file.'''"
   ]
  },
  {
   "cell_type": "code",
   "execution_count": 2,
   "metadata": {},
   "outputs": [],
   "source": [
    "__author__ = \"Khalid Rahman\"\n",
    "__email__ = \"kirahman2@gmail.com\""
   ]
  },
  {
   "cell_type": "markdown",
   "metadata": {},
   "source": [
    "### Import packages"
   ]
  },
  {
   "cell_type": "code",
   "execution_count": 504,
   "metadata": {},
   "outputs": [],
   "source": [
    "#!/usr/bin/env python3\n",
    "#import your libraries\n",
    "import pandas as pd\n",
    "import sklearn as sk\n",
    "import numpy as np\n",
    "import seaborn as sns\n",
    "import matplotlib.pyplot as plt\n",
    "from sklearn.metrics import mean_squared_error\n",
    "\n",
    "from sklearn.model_selection import cross_val_score\n",
    "from sklearn.preprocessing import LabelEncoder\n",
    "from sklearn.model_selection import train_test_split\n",
    "\n",
    "from sklearn.ensemble import GradientBoostingRegressor\n",
    "from sklearn.ensemble import RandomForestRegressor\n",
    "import xgboost as xgb\n",
    "\n",
    "from sklearn.model_selection import RandomizedSearchCV\n",
    "from sklearn.model_selection import GridSearchCV\n",
    "from sklearn.utils import shuffle\n",
    "from sklearn.externals import joblib\n",
    "import time\n",
    "import pickle\n",
    "import os\n",
    "import warnings\n",
    "warnings.filterwarnings(\"ignore\")"
   ]
  },
  {
   "cell_type": "markdown",
   "metadata": {},
   "source": [
    "### Defining Data class"
   ]
  },
  {
   "cell_type": "code",
   "execution_count": 505,
   "metadata": {},
   "outputs": [],
   "source": [
    "class Data:\n",
    "    def __init__(self):\n",
    "        '''create train and test dataframes'''\n",
    "        self.col_num = col_num\n",
    "        self.col_all = col_cat + col_num\n",
    "        self.train_eda = pd.DataFrame()\n",
    "        self.train_raw = pd.DataFrame()\n",
    "        self.test_raw = pd.DataFrame()\n",
    "        self.train_df = self._create_train_df(train_file)\n",
    "        self.test_df = self._create_test_df()\n",
    "\n",
    "    def _create_train_df(self, train_df):\n",
    "        '''create train dataframe'''\n",
    "        target = self.load_file(target_file)\n",
    "        df_train = self.load_file(train_df)\n",
    "        df_train = self._join_df(df_train, target)\n",
    "        df_train = self._correct_data(df_train)\n",
    "        self.train_eda = df_train\n",
    "        df_train = self._clean_data(df_train)\n",
    "        df_train = self.shuffle_data(df_train)\n",
    "        self.train_raw = df_train\n",
    "        df_train = self._label_encode(df_train)\n",
    "        return df_train\n",
    "\n",
    "    def _create_test_df(self):\n",
    "        '''create test dataframe'''\n",
    "        df_test = self.load_file(test_file)\n",
    "        df_test = self._correct_data(df_test)\n",
    "        self.test_raw = df_test\n",
    "        df_test = self._label_encode(df_test)\n",
    "        return df_test\n",
    "\n",
    "    def shuffle_data(self, dataframe):\n",
    "        '''shuffling data'''\n",
    "        return shuffle(dataframe, random_state=42).reset_index(drop=True)\n",
    "\n",
    "    def _clean_data(self, dataframe):\n",
    "        '''remove outliers from data'''\n",
    "        return dataframe[(dataframe.salary > 8) & (dataframe.salary < 220)]\n",
    "\n",
    "    def _correct_data(self, dataframe):\n",
    "        '''correcting data values'''\n",
    "        list_index = dataframe[(dataframe['degree'] != 'HIGH_SCHOOL')\n",
    "                               & (dataframe['degree'] != 'NONE')\n",
    "                               & (dataframe['major'] == 'NONE')\n",
    "                              ].index\n",
    "        dataframe.loc[list_index, 'major'] = 'MISSING'\n",
    "        return dataframe\n",
    "\n",
    "    def _label_encode(self, dataframe):\n",
    "        '''label encode dataframes'''\n",
    "        labelencode = LabelEncoder()\n",
    "        for val in col_cat:\n",
    "            dataframe[val] = labelencode.fit_transform(dataframe[val])\n",
    "        return dataframe\n",
    "\n",
    "    def _join_df(self, train_df, target):\n",
    "        '''join train and target dataframes'''\n",
    "        return pd.merge(train_df, target, on=col_id, how='inner')\n",
    "\n",
    "    def load_file(self, file):\n",
    "        '''load files'''\n",
    "        return pd.read_csv(file)"
   ]
  },
  {
   "cell_type": "markdown",
   "metadata": {},
   "source": [
    "### Defining Feature Engineering class"
   ]
  },
  {
   "cell_type": "code",
   "execution_count": 506,
   "metadata": {},
   "outputs": [],
   "source": [
    "class FeatureEngineering:\n",
    "    def __init__(self, train_raw, train_df, test_raw, test_df):\n",
    "        '''create train and test dataframes'''\n",
    "        self.train_df = train_df\n",
    "        self.train_raw = train_raw\n",
    "        self.test_df = test_df\n",
    "        self.test_raw = test_raw\n",
    "        self._groupby(self.train_raw, train_df, self.test_raw)\n",
    "\n",
    "    def _groupby(self, train_raw, train_df, test_raw):\n",
    "        '''parse through each categorical column and compute mean of each unique value'''\n",
    "        for i in range(0, len(col_cat)):\n",
    "            df_temp = self._compute_mean(train_raw, i)\n",
    "            list_col_temp = df_temp[col_cat[i]]\n",
    "            list_col_target = df_temp[col_target]\n",
    "            dict_temp = self._create_dictionary(df_temp, list_col_temp, list_col_target)\n",
    "            data.train_df[col_cat[i] + '_mean'] = self._map_dict(train_raw, i, dict_temp)\n",
    "            data.test_df[col_cat[i] + '_mean'] = self._map_dict(test_raw, i, dict_temp)\n",
    "            self._append_columns(train_df, i)\n",
    "        data.col_all = col_cat + col_num\n",
    "\n",
    "    def _compute_mean(self, train_raw, i):\n",
    "        '''compute mean of unique categorical values'''\n",
    "        df_raw = train_raw.groupby(col_cat[i])[col_target].mean()\n",
    "        return df_raw.sort_values(ascending=True).reset_index()\n",
    "\n",
    "    def _create_dictionary(self, df_temp, list_col_temp, list_col_target):\n",
    "        '''create dictionary of unique categorical values and mean salary values'''\n",
    "        dict_temp = {}\n",
    "        for j in range(0, len(df_temp)):\n",
    "            dict_temp.update([(list_col_temp[j], list_col_target[j])])\n",
    "        return dict_temp\n",
    "\n",
    "    def _map_dict(self, df_eda, i, dict_temp):\n",
    "        '''mapping dictionary values'''\n",
    "        return df_eda[col_cat[i]].map(dict_temp)\n",
    "\n",
    "    def _append_columns(self, train_df, i):\n",
    "        '''appending new column names to col_num list'''\n",
    "        data.col_num.append(train_df[col_cat[i] + '_mean'].name)"
   ]
  },
  {
   "cell_type": "markdown",
   "metadata": {},
   "source": [
    "### Defining Model class"
   ]
  },
  {
   "cell_type": "code",
   "execution_count": 507,
   "metadata": {},
   "outputs": [],
   "source": [
    "class Model:\n",
    "    def __init__(self):\n",
    "        '''create train dataframe'''\n",
    "        self.train_df = train_features\n",
    "        self.filename = 'best_model.sav'\n",
    "\n",
    "    def add_model(self, model):\n",
    "        '''add new model'''\n",
    "        start_time = time.time()\n",
    "        model_container[model] = self._score_model(model, self.train_df, train_target)\n",
    "        pass_temp = model_container[model]\n",
    "        self._model_summary(model, pass_temp)\n",
    "        self._elapsed_time(start_time)\n",
    "\n",
    "    def _elapsed_time(self, start_time):\n",
    "        elapsed_time = round((time.time() - start_time) / 60, 2)\n",
    "        print('training time:', elapsed_time, 'minutes')\n",
    "\n",
    "    def _model_summary(self, model, pass_temp):\n",
    "        print(model)\n",
    "        print('score:', model_container[model], '\\n')\n",
    "\n",
    "    def fit_model(self, model, train_df, target):\n",
    "        '''fit model'''\n",
    "        return model.fit(train_df, target)\n",
    "\n",
    "    def predict_model(self, model_selected, test_df, train_df, target):\n",
    "        '''predict and store best model'''\n",
    "        model = self.fit_model(model_selected, train_df, target)\n",
    "        self._save_model(model, self.filename)\n",
    "        prediction_results = model.predict(test_df)\n",
    "        self._save_prediction(prediction_results)\n",
    "        return prediction_results\n",
    "\n",
    "    def _important_features(self, model):\n",
    "        '''create feature importance dataframe'''\n",
    "        if hasattr(model, 'feature_importances_'):\n",
    "            col_feat_rank = pd.DataFrame(model.feature_importances_, columns=['score'])\n",
    "            col_feat = pd.DataFrame(data.col_all, columns=['feature'])\n",
    "            df_feat = pd.concat([col_feat, col_feat_rank], axis=1)\n",
    "            df_feat = df_feat.sort_values('score', ascending=False).reset_index(drop=True)\n",
    "            print('\\n', model)\n",
    "            print(\"\\nFeature Importances\\n\", df_feat)\n",
    "            self._feature_barplot(df_feat)\n",
    "        else:\n",
    "            print(\"\\nModel does not have feature_importances_ attribute.\")\n",
    "\n",
    "    def _feature_barplot(self, dataframe):\n",
    "        '''create feature importance barplot'''\n",
    "        fig = sns.barplot(dataframe.score, dataframe.feature, palette='Blues_d')\n",
    "        fig.set_title('Feature Importances')\n",
    "\n",
    "    def best_scoring_model(self):\n",
    "        '''select best scoring model'''\n",
    "        best_model = min(model_container, key=model_container.get)\n",
    "        best_score = model_container.get(best_model)\n",
    "        self._best_model_summary(best_model, best_score)\n",
    "        return best_model\n",
    "\n",
    "    def _best_model_summary(self, best_model, best_score):\n",
    "        '''print summary results of best model'''\n",
    "        print('The best model is:\\n', best_model)\n",
    "        print('\\nThe best score is:\\n', best_score)\n",
    "\n",
    "    def load_model(self, test_df):\n",
    "        '''load best model and call feature importance'''\n",
    "        if load_best_model:\n",
    "            print('\\nLoading saved best model...')\n",
    "            loading_best_model = joblib.load(self.filename)\n",
    "            self._important_features(loading_best_model)\n",
    "            loading_best_model.predict(test_df)\n",
    "        else:\n",
    "            print('\\nNo prediction file was created because load_best_model is set to false.')\n",
    "\n",
    "    def _save_model(self, model, filename):\n",
    "        '''save best model'''\n",
    "        if save_best_model:\n",
    "            pickle.dump(model, open(filename, 'wb'))\n",
    "            print('The model has been saved.')\n",
    "        else:\n",
    "            print('\\nBest performing model not saved because save_best_model is set to false.')\n",
    "\n",
    "    def _score_model(self, model, train_df, target_train):\n",
    "        '''score model'''\n",
    "        score = np.mean(cross_val_score(\n",
    "                                        model, train_df, target_train,\n",
    "                                        scoring='neg_mean_squared_error',\n",
    "                                        cv=set_cv, n_jobs=num_proc\n",
    "                                        )\n",
    "                        )\n",
    "        return -1.0 * score\n",
    "\n",
    "    def _save_prediction(self, prediction_results):\n",
    "        '''save predictions as csv file'''\n",
    "        col_jobid = pd.DataFrame(data.test_df.jobId)\n",
    "        pred_temp = pd.DataFrame(prediction_results, columns=['salary'])\n",
    "        pd.concat([col_jobid, pred_temp], axis=1).to_csv(dir_pred)"
   ]
  },
  {
   "cell_type": "markdown",
   "metadata": {},
   "source": [
    "### Defining parameters to run model"
   ]
  },
  {
   "cell_type": "code",
   "execution_count": 508,
   "metadata": {},
   "outputs": [],
   "source": [
    "train_file = '/Users/krahman/work/salarypredictionportfolio_old/data/train_features.csv'\n",
    "test_file = '/Users/krahman/work/salarypredictionportfolio_old/data/test_features.csv'\n",
    "target_file = '/Users/krahman/work/salarypredictionportfolio_old/data/train_salaries.csv'\n",
    "col_cat = ['companyId', 'jobType', 'degree', 'major', 'industry']\n",
    "col_num = ['milesFromMetropolis', 'yearsExperience']\n",
    "col_all = col_cat + col_num\n",
    "col_id = 'jobId'\n",
    "col_target = 'salary'\n",
    "\n",
    "set_cv = 2\n",
    "num_proc = -1\n",
    "save_best_model = True\n",
    "load_best_model = True\n",
    "dir_pred = '/Users/krahman/work/salarypredictionportfolio/predictions/test_salaries.csv'\n",
    "model_container = {}\n",
    "\n",
    "# ### DELETE\n",
    "# data = Data()\n",
    "# fe = FeatureEngineering(data.train_raw, data.train_df, data.test_raw, data.test_df)\n",
    "\n",
    "# train_features = data.train_df[data.col_all]\n",
    "# train_target = data.train_df[col_target]\n",
    "# test_features = data.test_df[data.col_all]\n",
    "# ###\n",
    "# train_features = data.train_df.loc[:10000,:]\n",
    "# train_target = data.train_df.loc[:10000,:]\n",
    "# test_features = data.test_df.loc[:10000,:]\n",
    "# train_features = train_features[data.col_all]\n",
    "# train_target = train_target[col_target]\n",
    "# test_features = test_features[data.col_all]\n",
    "# ###\n",
    "\n",
    "# model_class = Model()\n",
    "\n",
    "# model_class.add_model(RandomForestRegressor(bootstrap=True, criterion='mse', max_depth=13,\n",
    "#                       max_features='auto', max_leaf_nodes=None,\n",
    "#                       min_impurity_decrease=0.0, min_impurity_split=None,\n",
    "#                       min_samples_leaf=39, min_samples_split=114,\n",
    "#                       min_weight_fraction_leaf=0, n_estimators=200, n_jobs=None,\n",
    "#                       oob_score=False, random_state=42, verbose=0,\n",
    "#                       warm_start=False)\n",
    "#                )\n",
    "# print(data.train_df.shape)\n",
    "\n",
    "# selected_model = model_class.best_scoring_model()\n",
    "# pred_result = model_class.predict_model(selected_model, test_features,\n",
    "#                                   train_features, train_target)\n",
    "\n",
    "# best_model_loaded = model_class.load_model(test_features)\n",
    "\n",
    "# data.train_df"
   ]
  },
  {
   "cell_type": "markdown",
   "metadata": {},
   "source": [
    "### Create data object"
   ]
  },
  {
   "cell_type": "code",
   "execution_count": 509,
   "metadata": {},
   "outputs": [],
   "source": [
    "data = Data()"
   ]
  },
  {
   "cell_type": "markdown",
   "metadata": {},
   "source": [
    "### Create feature engineering object"
   ]
  },
  {
   "cell_type": "code",
   "execution_count": 510,
   "metadata": {},
   "outputs": [],
   "source": [
    "fe = FeatureEngineering(data.train_raw, data.train_df, data.test_raw, data.test_df)"
   ]
  },
  {
   "cell_type": "markdown",
   "metadata": {},
   "source": [
    "### Finalize training, target and test dataframes for our model"
   ]
  },
  {
   "cell_type": "code",
   "execution_count": 511,
   "metadata": {},
   "outputs": [],
   "source": [
    "train_features = data.train_df[data.col_all]\n",
    "train_target = data.train_df[col_target]\n",
    "test_features = data.test_df[data.col_all]\n",
    "\n",
    "###\n",
    "train_features = data.train_df.loc[:10000,:]\n",
    "train_target = data.train_df.loc[:10000,:]\n",
    "test_features = data.test_df.loc[:10000,:]\n",
    "train_features = train_features[data.col_all]\n",
    "train_target = train_target[col_target]\n",
    "test_features = test_features[data.col_all]\n",
    "# ##"
   ]
  },
  {
   "cell_type": "markdown",
   "metadata": {},
   "source": [
    "### Create model object"
   ]
  },
  {
   "cell_type": "code",
   "execution_count": 512,
   "metadata": {},
   "outputs": [],
   "source": [
    "model_class = Model()"
   ]
  },
  {
   "cell_type": "code",
   "execution_count": 513,
   "metadata": {},
   "outputs": [],
   "source": [
    "# from statsmodels.stats.outliers_influence import variance_inflation_factor\n",
    "# data.train_df"
   ]
  },
  {
   "cell_type": "markdown",
   "metadata": {},
   "source": [
    "### Add model, score, select best model, create prediction file and print summary"
   ]
  },
  {
   "cell_type": "code",
   "execution_count": 514,
   "metadata": {},
   "outputs": [
    {
     "name": "stdout",
     "output_type": "stream",
     "text": [
      "RandomForestRegressor(bootstrap=True, criterion='mse', max_depth=13,\n",
      "                      max_features='auto', max_leaf_nodes=None,\n",
      "                      min_impurity_decrease=0.0, min_impurity_split=None,\n",
      "                      min_samples_leaf=39, min_samples_split=114,\n",
      "                      min_weight_fraction_leaf=0, n_estimators=200, n_jobs=None,\n",
      "                      oob_score=False, random_state=42, verbose=0,\n",
      "                      warm_start=False)\n",
      "score: 455.19507349412424 \n",
      "\n",
      "training time: 0.05 minutes\n"
     ]
    }
   ],
   "source": [
    "# rfr final\n",
    "model_class.add_model(RandomForestRegressor(bootstrap=True, criterion='mse', max_depth=13,\n",
    "                      max_features='auto', max_leaf_nodes=None,\n",
    "                      min_impurity_decrease=0.0, min_impurity_split=None,\n",
    "                      min_samples_leaf=39, min_samples_split=114,\n",
    "                      min_weight_fraction_leaf=0, n_estimators=200, n_jobs=None,\n",
    "                      oob_score=False, random_state=42, verbose=0,\n",
    "                      warm_start=False)\n",
    "               )"
   ]
  },
  {
   "cell_type": "code",
   "execution_count": 515,
   "metadata": {},
   "outputs": [
    {
     "name": "stdout",
     "output_type": "stream",
     "text": [
      "XGBRegressor(base_score=0.5, booster='gbtree', colsample_bylevel=1,\n",
      "             colsample_bynode=1, colsample_bytree=1, gamma=0,\n",
      "             importance_type='gain', learning_rate=0.01, max_delta_step=0,\n",
      "             max_depth=6, min_child_weight=1, missing=None, n_estimators=1500,\n",
      "             n_jobs=1, nthread=None, objective='reg:linear', random_state=0,\n",
      "             reg_alpha=0, reg_lambda=1, scale_pos_weight=1, seed=None,\n",
      "             silent=None, subsample=1, tree_method='hist', verbosity=1)\n",
      "score: 392.30671892387903 \n",
      "\n",
      "training time: 0.07 minutes\n"
     ]
    }
   ],
   "source": [
    "# xgbr final\n",
    "model_class.add_model(xgb.XGBRegressor(base_score=0.5, booster='gbtree', colsample_bylevel=1,\n",
    "             colsample_bynode=1, colsample_bytree=1, gamma=0,\n",
    "             importance_type='gain', learning_rate=0.01, max_delta_step=0,\n",
    "             max_depth=6, min_child_weight=1, missing=None, n_estimators=1500,\n",
    "             n_jobs=1, nthread=None, objective='reg:linear', random_state=0,\n",
    "             reg_alpha=0, reg_lambda=1, scale_pos_weight=1, seed=None,\n",
    "             silent=None, subsample=1, tree_method='hist', verbosity=1)\n",
    "               )"
   ]
  },
  {
   "cell_type": "code",
   "execution_count": 516,
   "metadata": {},
   "outputs": [
    {
     "name": "stdout",
     "output_type": "stream",
     "text": [
      "GradientBoostingRegressor(alpha=0.1, criterion='friedman_mse', init=None,\n",
      "                          learning_rate=0.09, loss='ls', max_depth=7,\n",
      "                          max_features='auto', max_leaf_nodes=60,\n",
      "                          min_impurity_decrease=0.0, min_impurity_split=None,\n",
      "                          min_samples_leaf=1, min_samples_split=2,\n",
      "                          min_weight_fraction_leaf=0.0, n_estimators=150,\n",
      "                          n_iter_no_change=None, presort='auto',\n",
      "                          random_state=42, subsample=1, tol=0.0001,\n",
      "                          validation_fraction=0.1, verbose=1, warm_start=False)\n",
      "score: 396.11147909080194 \n",
      "\n",
      "training time: 0.03 minutes\n"
     ]
    }
   ],
   "source": [
    "# gbr final RERUN, store models, then set save model to false\n",
    "model_class.add_model(GradientBoostingRegressor(alpha=0.1, criterion='friedman_mse', init=None,\n",
    "                          learning_rate=0.09, loss='ls', max_depth=7,\n",
    "                          max_features='auto', max_leaf_nodes=60,\n",
    "                          min_impurity_decrease=0.0, min_impurity_split=None,\n",
    "                          min_samples_leaf=1, min_samples_split=2,\n",
    "                          min_weight_fraction_leaf=0.0, n_estimators=150,\n",
    "                          n_iter_no_change=None, presort='auto',\n",
    "                          random_state=42, subsample=1, tol=0.0001,\n",
    "                          validation_fraction=0.1, verbose=1, warm_start=False)\n",
    "               )"
   ]
  },
  {
   "cell_type": "code",
   "execution_count": 517,
   "metadata": {},
   "outputs": [
    {
     "name": "stdout",
     "output_type": "stream",
     "text": [
      "The best model is:\n",
      " XGBRegressor(base_score=0.5, booster='gbtree', colsample_bylevel=1,\n",
      "             colsample_bynode=1, colsample_bytree=1, gamma=0,\n",
      "             importance_type='gain', learning_rate=0.01, max_delta_step=0,\n",
      "             max_depth=6, min_child_weight=1, missing=None, n_estimators=1500,\n",
      "             n_jobs=1, nthread=None, objective='reg:linear', random_state=0,\n",
      "             reg_alpha=0, reg_lambda=1, scale_pos_weight=1, seed=None,\n",
      "             silent=None, subsample=1, tree_method='hist', verbosity=1)\n",
      "\n",
      "The best score is:\n",
      " 392.30671892387903\n",
      "[20:16:34] WARNING: src/objective/regression_obj.cu:152: reg:linear is now deprecated in favor of reg:squarederror.\n",
      "The model has been saved.\n"
     ]
    }
   ],
   "source": [
    "selected_model = model_class.best_scoring_model()\n",
    "pred_result = model_class.predict_model(selected_model, test_features,\n",
    "                                  train_features, train_target)"
   ]
  },
  {
   "cell_type": "markdown",
   "metadata": {},
   "source": [
    "### Load best model and create prediction"
   ]
  },
  {
   "cell_type": "code",
   "execution_count": 518,
   "metadata": {},
   "outputs": [
    {
     "name": "stdout",
     "output_type": "stream",
     "text": [
      "\n",
      "Loading saved best model...\n",
      "[20:16:44] WARNING: src/objective/regression_obj.cu:152: reg:linear is now deprecated in favor of reg:squarederror.\n",
      "\n",
      " XGBRegressor(base_score=0.5, booster='gbtree', colsample_bylevel=1,\n",
      "             colsample_bynode=1, colsample_bytree=1, gamma=0,\n",
      "             importance_type='gain', learning_rate=0.01, max_delta_step=0,\n",
      "             max_depth=6, min_child_weight=1, missing=nan, n_estimators=1500,\n",
      "             n_jobs=1, nthread=None, objective='reg:linear', random_state=0,\n",
      "             reg_alpha=0, reg_lambda=1, scale_pos_weight=1, seed=None,\n",
      "             silent=None, subsample=1, tree_method='hist', verbosity=1)\n",
      "\n",
      "Feature Importances\n",
      "                 feature     score\n",
      "0          jobType_mean  0.487234\n",
      "1           degree_mean  0.201822\n",
      "2         industry_mean  0.081755\n",
      "3       yearsExperience  0.072533\n",
      "4               jobType  0.040232\n",
      "5   milesFromMetropolis  0.037497\n",
      "6            major_mean  0.034285\n",
      "7                degree  0.013699\n",
      "8                 major  0.008666\n",
      "9        companyId_mean  0.007657\n",
      "10             industry  0.007438\n",
      "11            companyId  0.007183\n"
     ]
    },
    {
     "data": {
      "image/png": "[encoded data removed]",
      "text/plain": [
       "<Figure size 432x288 with 1 Axes>"
      ]
     },
     "metadata": {
      "needs_background": "light"
     },
     "output_type": "display_data"
    }
   ],
   "source": [
    "best_model_loaded = model_class.load_model(test_features)"
   ]
  },
  {
   "cell_type": "markdown",
   "metadata": {},
   "source": [
    "### EDA"
   ]
  },
  {
   "cell_type": "code",
   "execution_count": 519,
   "metadata": {},
   "outputs": [],
   "source": [
    "# delete once finished\n",
    "train_features_df = pd.read_csv('/Users/krahman/work/salarypredictionportfolio/data/train_features.csv')\n",
    "train_target_df = pd.read_csv('/Users/krahman/work/salarypredictionportfolio/data/train_salaries.csv')\n",
    "test_features_df = pd.read_csv('/Users/krahman/work/salarypredictionportfolio/data/test_features.csv')"
   ]
  },
  {
   "cell_type": "code",
   "execution_count": 520,
   "metadata": {},
   "outputs": [],
   "source": [
    "class Heatmap:\n",
    "    def __init__(self, train_df, target_df, title):\n",
    "        '''merge training and target df'''\n",
    "        self.df = self._merge_df(train_df, target_df)\n",
    "        self.col = self.df.columns\n",
    "        self.target = col_target\n",
    "        self.heatmap = self._create_corr_df(self.df, self.col, self.target, title)\n",
    "\n",
    "    def _merge_df(self, df, target):\n",
    "        '''merging training and target dataframes''' \n",
    "        return pd.merge(left=target, right=df, on=col_id, how='inner')\n",
    "\n",
    "    def _create_corr_df(self, df, col, target, title):\n",
    "        '''creates correlation matrix from train_df'''\n",
    "        corr = df[self.col].corr()\n",
    "        self._create_heatmap(corr)\n",
    "        self._set_title(title)\n",
    "        \n",
    "    def _create_heatmap(self, corr):\n",
    "        '''creates heatmap from correlation matrix'''\n",
    "        plt.figure(figsize=(4,3))\n",
    "        return sns.heatmap(corr, xticklabels=corr.columns.values, \n",
    "                           yticklabels=corr.columns.values, cmap='Blues', annot=True)\n",
    "        \n",
    "    def _set_title(self, title):\n",
    "        '''sets title of correlation matrix'''\n",
    "        plt.title(title)"
   ]
  },
  {
   "cell_type": "code",
   "execution_count": 521,
   "metadata": {},
   "outputs": [],
   "source": [
    "class Boxplot:\n",
    "    def __init__(self, train_eda, target):\n",
    "        '''create train and target dataframes'''\n",
    "        self.df = train_eda\n",
    "        self.target = target\n",
    "        \n",
    "    def create_boxplot(self, val, title):\n",
    "        '''create boxplot'''\n",
    "        self._create_subplot()\n",
    "        self._set_title(title)\n",
    "        col_avgs = self._calc_averages(self.df, self.target, val)\n",
    "        sns.boxplot(val, self.target, data=self.df, width=.3, color='#eeefff', order=col_avgs)\n",
    "        \n",
    "    def create_dual_boxplot(self, col1, val1, val2, col2, title):\n",
    "        '''create dual axis boxplot'''\n",
    "        self._create_subplot()\n",
    "        self._set_title(title)\n",
    "        col_avgs = self._calc_averages(self.df, self.target, col2)\n",
    "        df = self._create_dataframe(self.df, self.target, col1, val1, val2, col2)\n",
    "        sns.boxplot(x=col2, y=self.target, hue=col1, data=df, palette='Set3', order=col_avgs)\n",
    "    \n",
    "    def _create_dataframe(self, df, target, col1, val1, val2, col3):\n",
    "        '''create dataframe for dual boxplot'''\n",
    "        return df[(df[col1]==val1) | (df[col1]==val2)].sort_values(self.target, ascending=True)\n",
    "    \n",
    "    def _calc_averages(self, df, target, val):\n",
    "        '''calculate mean values'''\n",
    "        df = self.df[[val, target]].groupby(val).mean().sort_values(target, ascending=True).reset_index()\n",
    "        return df[val].values\n",
    "    \n",
    "    def _create_subplot(self):\n",
    "        '''create subplot'''\n",
    "        plt.subplots(figsize=(12,6.5))\n",
    "        \n",
    "    def _set_title(self, title):\n",
    "        '''create title'''\n",
    "        plt.title(title)"
   ]
  },
  {
   "cell_type": "code",
   "execution_count": 522,
   "metadata": {},
   "outputs": [],
   "source": [
    "# sns.pairplot(data.train_eda)"
   ]
  },
  {
   "cell_type": "code",
   "execution_count": 523,
   "metadata": {},
   "outputs": [],
   "source": [
    "# sns.pairplot(data.train_eda, kind='reg')"
   ]
  },
  {
   "cell_type": "markdown",
   "metadata": {},
   "source": [
    "### Instantiate Boxplot and Heatmap objects"
   ]
  },
  {
   "cell_type": "code",
   "execution_count": 524,
   "metadata": {},
   "outputs": [
    {
     "data": {
      "image/png": "[encoded data removed]",
      "text/plain": [
       "<Figure size 288x216 with 2 Axes>"
      ]
     },
     "metadata": {
      "needs_background": "light"
     },
     "output_type": "display_data"
    }
   ],
   "source": [
    "bp = Boxplot(data.train_eda, col_target)\n",
    "Heatmap(train_features_df, train_target_df, 'Heatmap of Correlation Matrix');"
   ]
  },
  {
   "cell_type": "code",
   "execution_count": 525,
   "metadata": {},
   "outputs": [
    {
     "data": {
      "image/png": "[encoded data removed]",
      "text/plain": [
       "<Figure size 864x468 with 1 Axes>"
      ]
     },
     "metadata": {
      "needs_background": "light"
     },
     "output_type": "display_data"
    }
   ],
   "source": [
    "bp.create_dual_boxplot('degree', 'HIGH_SCHOOL', 'NONE', 'jobType', 'Salary Versus Position & Degree')"
   ]
  },
  {
   "cell_type": "code",
   "execution_count": null,
   "metadata": {},
   "outputs": [],
   "source": [
    "train_features_df = pd.read_csv('/Users/krahman/work/salarypredictionportfolio/data/train_features.csv')\n",
    "train_target_df = pd.read_csv('/Users/krahman/work/salarypredictionportfolio/data/train_salaries.csv')\n",
    "test_features_df = pd.read_csv('/Users/krahman/work/salarypredictionportfolio/data/test_features.csv')"
   ]
  },
  {
   "cell_type": "code",
   "execution_count": null,
   "metadata": {},
   "outputs": [],
   "source": [
    "train_features_df.head()"
   ]
  },
  {
   "cell_type": "code",
   "execution_count": 19,
   "metadata": {},
   "outputs": [
    {
     "data": {
      "text/html": [
       "<div>\n",
       "<style scoped>\n",
       "    .dataframe tbody tr th:only-of-type {\n",
       "        vertical-align: middle;\n",
       "    }\n",
       "\n",
       "    .dataframe tbody tr th {\n",
       "        vertical-align: top;\n",
       "    }\n",
       "\n",
       "    .dataframe thead th {\n",
       "        text-align: right;\n",
       "    }\n",
       "</style>\n",
       "<table border=\"1\" class=\"dataframe\">\n",
       "  <thead>\n",
       "    <tr style=\"text-align: right;\">\n",
       "      <th></th>\n",
       "      <th>jobId</th>\n",
       "      <th>salary</th>\n",
       "    </tr>\n",
       "  </thead>\n",
       "  <tbody>\n",
       "    <tr>\n",
       "      <th>0</th>\n",
       "      <td>JOB1362684407687</td>\n",
       "      <td>130</td>\n",
       "    </tr>\n",
       "    <tr>\n",
       "      <th>1</th>\n",
       "      <td>JOB1362684407688</td>\n",
       "      <td>101</td>\n",
       "    </tr>\n",
       "    <tr>\n",
       "      <th>2</th>\n",
       "      <td>JOB1362684407689</td>\n",
       "      <td>137</td>\n",
       "    </tr>\n",
       "    <tr>\n",
       "      <th>3</th>\n",
       "      <td>JOB1362684407690</td>\n",
       "      <td>142</td>\n",
       "    </tr>\n",
       "    <tr>\n",
       "      <th>4</th>\n",
       "      <td>JOB1362684407691</td>\n",
       "      <td>163</td>\n",
       "    </tr>\n",
       "  </tbody>\n",
       "</table>\n",
       "</div>"
      ],
      "text/plain": [
       "              jobId  salary\n",
       "0  JOB1362684407687     130\n",
       "1  JOB1362684407688     101\n",
       "2  JOB1362684407689     137\n",
       "3  JOB1362684407690     142\n",
       "4  JOB1362684407691     163"
      ]
     },
     "execution_count": 19,
     "metadata": {},
     "output_type": "execute_result"
    }
   ],
   "source": [
    "train_target_df.head()"
   ]
  },
  {
   "cell_type": "code",
   "execution_count": 20,
   "metadata": {},
   "outputs": [
    {
     "data": {
      "text/html": [
       "<div>\n",
       "<style scoped>\n",
       "    .dataframe tbody tr th:only-of-type {\n",
       "        vertical-align: middle;\n",
       "    }\n",
       "\n",
       "    .dataframe tbody tr th {\n",
       "        vertical-align: top;\n",
       "    }\n",
       "\n",
       "    .dataframe thead th {\n",
       "        text-align: right;\n",
       "    }\n",
       "</style>\n",
       "<table border=\"1\" class=\"dataframe\">\n",
       "  <thead>\n",
       "    <tr style=\"text-align: right;\">\n",
       "      <th></th>\n",
       "      <th>jobId</th>\n",
       "      <th>companyId</th>\n",
       "      <th>jobType</th>\n",
       "      <th>degree</th>\n",
       "      <th>major</th>\n",
       "      <th>industry</th>\n",
       "      <th>yearsExperience</th>\n",
       "      <th>milesFromMetropolis</th>\n",
       "    </tr>\n",
       "  </thead>\n",
       "  <tbody>\n",
       "    <tr>\n",
       "      <th>0</th>\n",
       "      <td>JOB1362685407687</td>\n",
       "      <td>COMP33</td>\n",
       "      <td>MANAGER</td>\n",
       "      <td>HIGH_SCHOOL</td>\n",
       "      <td>NONE</td>\n",
       "      <td>HEALTH</td>\n",
       "      <td>22</td>\n",
       "      <td>73</td>\n",
       "    </tr>\n",
       "    <tr>\n",
       "      <th>1</th>\n",
       "      <td>JOB1362685407688</td>\n",
       "      <td>COMP13</td>\n",
       "      <td>JUNIOR</td>\n",
       "      <td>NONE</td>\n",
       "      <td>NONE</td>\n",
       "      <td>AUTO</td>\n",
       "      <td>20</td>\n",
       "      <td>47</td>\n",
       "    </tr>\n",
       "    <tr>\n",
       "      <th>2</th>\n",
       "      <td>JOB1362685407689</td>\n",
       "      <td>COMP10</td>\n",
       "      <td>CTO</td>\n",
       "      <td>MASTERS</td>\n",
       "      <td>BIOLOGY</td>\n",
       "      <td>HEALTH</td>\n",
       "      <td>17</td>\n",
       "      <td>9</td>\n",
       "    </tr>\n",
       "    <tr>\n",
       "      <th>3</th>\n",
       "      <td>JOB1362685407690</td>\n",
       "      <td>COMP21</td>\n",
       "      <td>MANAGER</td>\n",
       "      <td>HIGH_SCHOOL</td>\n",
       "      <td>NONE</td>\n",
       "      <td>OIL</td>\n",
       "      <td>14</td>\n",
       "      <td>96</td>\n",
       "    </tr>\n",
       "    <tr>\n",
       "      <th>4</th>\n",
       "      <td>JOB1362685407691</td>\n",
       "      <td>COMP36</td>\n",
       "      <td>JUNIOR</td>\n",
       "      <td>DOCTORAL</td>\n",
       "      <td>BIOLOGY</td>\n",
       "      <td>OIL</td>\n",
       "      <td>10</td>\n",
       "      <td>44</td>\n",
       "    </tr>\n",
       "  </tbody>\n",
       "</table>\n",
       "</div>"
      ],
      "text/plain": [
       "              jobId companyId  jobType       degree    major industry  \\\n",
       "0  JOB1362685407687    COMP33  MANAGER  HIGH_SCHOOL     NONE   HEALTH   \n",
       "1  JOB1362685407688    COMP13   JUNIOR         NONE     NONE     AUTO   \n",
       "2  JOB1362685407689    COMP10      CTO      MASTERS  BIOLOGY   HEALTH   \n",
       "3  JOB1362685407690    COMP21  MANAGER  HIGH_SCHOOL     NONE      OIL   \n",
       "4  JOB1362685407691    COMP36   JUNIOR     DOCTORAL  BIOLOGY      OIL   \n",
       "\n",
       "   yearsExperience  milesFromMetropolis  \n",
       "0               22                   73  \n",
       "1               20                   47  \n",
       "2               17                    9  \n",
       "3               14                   96  \n",
       "4               10                   44  "
      ]
     },
     "execution_count": 20,
     "metadata": {},
     "output_type": "execute_result"
    }
   ],
   "source": [
    "test_features_df.head()"
   ]
  },
  {
   "cell_type": "code",
   "execution_count": 21,
   "metadata": {},
   "outputs": [
    {
     "name": "stdout",
     "output_type": "stream",
     "text": [
      "<class 'pandas.core.frame.DataFrame'>\n",
      "RangeIndex: 1000000 entries, 0 to 999999\n",
      "Data columns (total 8 columns):\n",
      "jobId                  1000000 non-null object\n",
      "companyId              1000000 non-null object\n",
      "jobType                1000000 non-null object\n",
      "degree                 1000000 non-null object\n",
      "major                  1000000 non-null object\n",
      "industry               1000000 non-null object\n",
      "yearsExperience        1000000 non-null int64\n",
      "milesFromMetropolis    1000000 non-null int64\n",
      "dtypes: int64(2), object(6)\n",
      "memory usage: 61.0+ MB\n"
     ]
    }
   ],
   "source": [
    "train_features_df.info()"
   ]
  },
  {
   "cell_type": "code",
   "execution_count": 22,
   "metadata": {},
   "outputs": [
    {
     "name": "stdout",
     "output_type": "stream",
     "text": [
      "<class 'pandas.core.frame.DataFrame'>\n",
      "RangeIndex: 1000000 entries, 0 to 999999\n",
      "Data columns (total 2 columns):\n",
      "jobId     1000000 non-null object\n",
      "salary    1000000 non-null int64\n",
      "dtypes: int64(1), object(1)\n",
      "memory usage: 15.3+ MB\n"
     ]
    }
   ],
   "source": [
    "train_target_df.info()"
   ]
  },
  {
   "cell_type": "code",
   "execution_count": 23,
   "metadata": {},
   "outputs": [
    {
     "name": "stdout",
     "output_type": "stream",
     "text": [
      "<class 'pandas.core.frame.DataFrame'>\n",
      "RangeIndex: 1000000 entries, 0 to 999999\n",
      "Data columns (total 8 columns):\n",
      "jobId                  1000000 non-null object\n",
      "companyId              1000000 non-null object\n",
      "jobType                1000000 non-null object\n",
      "degree                 1000000 non-null object\n",
      "major                  1000000 non-null object\n",
      "industry               1000000 non-null object\n",
      "yearsExperience        1000000 non-null int64\n",
      "milesFromMetropolis    1000000 non-null int64\n",
      "dtypes: int64(2), object(6)\n",
      "memory usage: 61.0+ MB\n"
     ]
    }
   ],
   "source": [
    "test_features_df.info()"
   ]
  },
  {
   "cell_type": "code",
   "execution_count": 24,
   "metadata": {},
   "outputs": [
    {
     "name": "stdout",
     "output_type": "stream",
     "text": [
      "Train features duplicates: 0\n",
      "Train target duplicates: 0 \n",
      "Test features duplicates: 0\n",
      "\n",
      "Train feature columns:\n",
      " ['jobId', 'companyId', 'jobType', 'degree', 'major', 'industry', 'yearsExperience', 'milesFromMetropolis']\n"
     ]
    }
   ],
   "source": [
    "train_features_sum = train_features_df.duplicated().sum()\n",
    "train_target_sum = train_target_df.duplicated().sum()\n",
    "test_features_sum = test_features_df.duplicated().sum()\n",
    "columns = train_features_df.columns\n",
    "print('Train features duplicates: {}\\nTrain target duplicates: {} \\nTest features duplicates: {}\\n'.format(train_features_sum, train_target_sum, test_features_sum))\n",
    "print('Train feature columns:\\n', list(columns))"
   ]
  },
  {
   "cell_type": "code",
   "execution_count": 25,
   "metadata": {},
   "outputs": [],
   "source": [
    "col_num = ['jobId', 'companyId', 'jobType', 'degree', 'major', 'industry']\n",
    "col_cat = ['yearsExperience', 'milesFromMetropolis']\n",
    "col_id = 'jobId'"
   ]
  },
  {
   "cell_type": "code",
   "execution_count": 26,
   "metadata": {},
   "outputs": [
    {
     "data": {
      "text/html": [
       "<div>\n",
       "<style scoped>\n",
       "    .dataframe tbody tr th:only-of-type {\n",
       "        vertical-align: middle;\n",
       "    }\n",
       "\n",
       "    .dataframe tbody tr th {\n",
       "        vertical-align: top;\n",
       "    }\n",
       "\n",
       "    .dataframe thead th {\n",
       "        text-align: right;\n",
       "    }\n",
       "</style>\n",
       "<table border=\"1\" class=\"dataframe\">\n",
       "  <thead>\n",
       "    <tr style=\"text-align: right;\">\n",
       "      <th></th>\n",
       "      <th>yearsExperience</th>\n",
       "      <th>milesFromMetropolis</th>\n",
       "    </tr>\n",
       "  </thead>\n",
       "  <tbody>\n",
       "    <tr>\n",
       "      <th>count</th>\n",
       "      <td>1000000.000000</td>\n",
       "      <td>1000000.000000</td>\n",
       "    </tr>\n",
       "    <tr>\n",
       "      <th>mean</th>\n",
       "      <td>11.992386</td>\n",
       "      <td>49.529260</td>\n",
       "    </tr>\n",
       "    <tr>\n",
       "      <th>std</th>\n",
       "      <td>7.212391</td>\n",
       "      <td>28.877733</td>\n",
       "    </tr>\n",
       "    <tr>\n",
       "      <th>min</th>\n",
       "      <td>0.000000</td>\n",
       "      <td>0.000000</td>\n",
       "    </tr>\n",
       "    <tr>\n",
       "      <th>25%</th>\n",
       "      <td>6.000000</td>\n",
       "      <td>25.000000</td>\n",
       "    </tr>\n",
       "    <tr>\n",
       "      <th>50%</th>\n",
       "      <td>12.000000</td>\n",
       "      <td>50.000000</td>\n",
       "    </tr>\n",
       "    <tr>\n",
       "      <th>75%</th>\n",
       "      <td>18.000000</td>\n",
       "      <td>75.000000</td>\n",
       "    </tr>\n",
       "    <tr>\n",
       "      <th>max</th>\n",
       "      <td>24.000000</td>\n",
       "      <td>99.000000</td>\n",
       "    </tr>\n",
       "  </tbody>\n",
       "</table>\n",
       "</div>"
      ],
      "text/plain": [
       "       yearsExperience  milesFromMetropolis\n",
       "count   1000000.000000       1000000.000000\n",
       "mean         11.992386            49.529260\n",
       "std           7.212391            28.877733\n",
       "min           0.000000             0.000000\n",
       "25%           6.000000            25.000000\n",
       "50%          12.000000            50.000000\n",
       "75%          18.000000            75.000000\n",
       "max          24.000000            99.000000"
      ]
     },
     "execution_count": 26,
     "metadata": {},
     "output_type": "execute_result"
    }
   ],
   "source": [
    "train_features_df.describe(include = np.number)"
   ]
  },
  {
   "cell_type": "code",
   "execution_count": 27,
   "metadata": {},
   "outputs": [
    {
     "data": {
      "text/html": [
       "<div>\n",
       "<style scoped>\n",
       "    .dataframe tbody tr th:only-of-type {\n",
       "        vertical-align: middle;\n",
       "    }\n",
       "\n",
       "    .dataframe tbody tr th {\n",
       "        vertical-align: top;\n",
       "    }\n",
       "\n",
       "    .dataframe thead th {\n",
       "        text-align: right;\n",
       "    }\n",
       "</style>\n",
       "<table border=\"1\" class=\"dataframe\">\n",
       "  <thead>\n",
       "    <tr style=\"text-align: right;\">\n",
       "      <th></th>\n",
       "      <th>jobId</th>\n",
       "      <th>companyId</th>\n",
       "      <th>jobType</th>\n",
       "      <th>degree</th>\n",
       "      <th>major</th>\n",
       "      <th>industry</th>\n",
       "    </tr>\n",
       "  </thead>\n",
       "  <tbody>\n",
       "    <tr>\n",
       "      <th>count</th>\n",
       "      <td>1000000</td>\n",
       "      <td>1000000</td>\n",
       "      <td>1000000</td>\n",
       "      <td>1000000</td>\n",
       "      <td>1000000</td>\n",
       "      <td>1000000</td>\n",
       "    </tr>\n",
       "    <tr>\n",
       "      <th>unique</th>\n",
       "      <td>1000000</td>\n",
       "      <td>63</td>\n",
       "      <td>8</td>\n",
       "      <td>5</td>\n",
       "      <td>9</td>\n",
       "      <td>7</td>\n",
       "    </tr>\n",
       "    <tr>\n",
       "      <th>top</th>\n",
       "      <td>JOB1362684802051</td>\n",
       "      <td>COMP39</td>\n",
       "      <td>SENIOR</td>\n",
       "      <td>HIGH_SCHOOL</td>\n",
       "      <td>NONE</td>\n",
       "      <td>WEB</td>\n",
       "    </tr>\n",
       "    <tr>\n",
       "      <th>freq</th>\n",
       "      <td>1</td>\n",
       "      <td>16193</td>\n",
       "      <td>125886</td>\n",
       "      <td>236976</td>\n",
       "      <td>532355</td>\n",
       "      <td>143206</td>\n",
       "    </tr>\n",
       "  </tbody>\n",
       "</table>\n",
       "</div>"
      ],
      "text/plain": [
       "                   jobId companyId  jobType       degree    major industry\n",
       "count            1000000   1000000  1000000      1000000  1000000  1000000\n",
       "unique           1000000        63        8            5        9        7\n",
       "top     JOB1362684802051    COMP39   SENIOR  HIGH_SCHOOL     NONE      WEB\n",
       "freq                   1     16193   125886       236976   532355   143206"
      ]
     },
     "execution_count": 27,
     "metadata": {},
     "output_type": "execute_result"
    }
   ],
   "source": [
    "train_features_df.describe(include = np.object)"
   ]
  },
  {
   "cell_type": "code",
   "execution_count": 28,
   "metadata": {},
   "outputs": [],
   "source": [
    "train_df = pd.merge(train_features_df, train_target_df, on=col_id)\n",
    "train_target = train_target_df"
   ]
  },
  {
   "cell_type": "code",
   "execution_count": 29,
   "metadata": {},
   "outputs": [
    {
     "name": "stdout",
     "output_type": "stream",
     "text": [
      "<class 'pandas.core.frame.DataFrame'>\n",
      "Int64Index: 1000000 entries, 0 to 999999\n",
      "Data columns (total 9 columns):\n",
      "jobId                  1000000 non-null object\n",
      "companyId              1000000 non-null object\n",
      "jobType                1000000 non-null object\n",
      "degree                 1000000 non-null object\n",
      "major                  1000000 non-null object\n",
      "industry               1000000 non-null object\n",
      "yearsExperience        1000000 non-null int64\n",
      "milesFromMetropolis    1000000 non-null int64\n",
      "salary                 1000000 non-null int64\n",
      "dtypes: int64(3), object(6)\n",
      "memory usage: 76.3+ MB\n"
     ]
    }
   ],
   "source": [
    "train_df.info()"
   ]
  },
  {
   "cell_type": "code",
   "execution_count": 30,
   "metadata": {},
   "outputs": [
    {
     "data": {
      "text/html": [
       "<div>\n",
       "<style scoped>\n",
       "    .dataframe tbody tr th:only-of-type {\n",
       "        vertical-align: middle;\n",
       "    }\n",
       "\n",
       "    .dataframe tbody tr th {\n",
       "        vertical-align: top;\n",
       "    }\n",
       "\n",
       "    .dataframe thead th {\n",
       "        text-align: right;\n",
       "    }\n",
       "</style>\n",
       "<table border=\"1\" class=\"dataframe\">\n",
       "  <thead>\n",
       "    <tr style=\"text-align: right;\">\n",
       "      <th></th>\n",
       "      <th>jobId</th>\n",
       "      <th>companyId</th>\n",
       "      <th>jobType</th>\n",
       "      <th>degree</th>\n",
       "      <th>major</th>\n",
       "      <th>industry</th>\n",
       "      <th>yearsExperience</th>\n",
       "      <th>milesFromMetropolis</th>\n",
       "      <th>salary</th>\n",
       "    </tr>\n",
       "  </thead>\n",
       "  <tbody>\n",
       "    <tr>\n",
       "      <th>0</th>\n",
       "      <td>JOB1362684407687</td>\n",
       "      <td>COMP37</td>\n",
       "      <td>CFO</td>\n",
       "      <td>MASTERS</td>\n",
       "      <td>MATH</td>\n",
       "      <td>HEALTH</td>\n",
       "      <td>10</td>\n",
       "      <td>83</td>\n",
       "      <td>130</td>\n",
       "    </tr>\n",
       "    <tr>\n",
       "      <th>1</th>\n",
       "      <td>JOB1362684407688</td>\n",
       "      <td>COMP19</td>\n",
       "      <td>CEO</td>\n",
       "      <td>HIGH_SCHOOL</td>\n",
       "      <td>NONE</td>\n",
       "      <td>WEB</td>\n",
       "      <td>3</td>\n",
       "      <td>73</td>\n",
       "      <td>101</td>\n",
       "    </tr>\n",
       "    <tr>\n",
       "      <th>2</th>\n",
       "      <td>JOB1362684407689</td>\n",
       "      <td>COMP52</td>\n",
       "      <td>VICE_PRESIDENT</td>\n",
       "      <td>DOCTORAL</td>\n",
       "      <td>PHYSICS</td>\n",
       "      <td>HEALTH</td>\n",
       "      <td>10</td>\n",
       "      <td>38</td>\n",
       "      <td>137</td>\n",
       "    </tr>\n",
       "    <tr>\n",
       "      <th>3</th>\n",
       "      <td>JOB1362684407690</td>\n",
       "      <td>COMP38</td>\n",
       "      <td>MANAGER</td>\n",
       "      <td>DOCTORAL</td>\n",
       "      <td>CHEMISTRY</td>\n",
       "      <td>AUTO</td>\n",
       "      <td>8</td>\n",
       "      <td>17</td>\n",
       "      <td>142</td>\n",
       "    </tr>\n",
       "    <tr>\n",
       "      <th>4</th>\n",
       "      <td>JOB1362684407691</td>\n",
       "      <td>COMP7</td>\n",
       "      <td>VICE_PRESIDENT</td>\n",
       "      <td>BACHELORS</td>\n",
       "      <td>PHYSICS</td>\n",
       "      <td>FINANCE</td>\n",
       "      <td>8</td>\n",
       "      <td>16</td>\n",
       "      <td>163</td>\n",
       "    </tr>\n",
       "  </tbody>\n",
       "</table>\n",
       "</div>"
      ],
      "text/plain": [
       "              jobId companyId         jobType       degree      major  \\\n",
       "0  JOB1362684407687    COMP37             CFO      MASTERS       MATH   \n",
       "1  JOB1362684407688    COMP19             CEO  HIGH_SCHOOL       NONE   \n",
       "2  JOB1362684407689    COMP52  VICE_PRESIDENT     DOCTORAL    PHYSICS   \n",
       "3  JOB1362684407690    COMP38         MANAGER     DOCTORAL  CHEMISTRY   \n",
       "4  JOB1362684407691     COMP7  VICE_PRESIDENT    BACHELORS    PHYSICS   \n",
       "\n",
       "  industry  yearsExperience  milesFromMetropolis  salary  \n",
       "0   HEALTH               10                   83     130  \n",
       "1      WEB                3                   73     101  \n",
       "2   HEALTH               10                   38     137  \n",
       "3     AUTO                8                   17     142  \n",
       "4  FINANCE                8                   16     163  "
      ]
     },
     "execution_count": 30,
     "metadata": {},
     "output_type": "execute_result"
    }
   ],
   "source": [
    "train_df.head()"
   ]
  },
  {
   "cell_type": "code",
   "execution_count": 417,
   "metadata": {},
   "outputs": [
    {
     "data": {
      "image/png": "[encoded data removed]",
      "text/plain": [
       "<Figure size 1008x432 with 2 Axes>"
      ]
     },
     "metadata": {
      "needs_background": "light"
     },
     "output_type": "display_data"
    },
    {
     "name": "stdout",
     "output_type": "stream",
     "text": [
      "The upper and lower bounds for potential outliers are 220.5 and 8.5.\n"
     ]
    }
   ],
   "source": [
    "class TargetVisualization:\n",
    "    def __init__(self, train_eda, target):\n",
    "        '''create train and target dataframe'''\n",
    "        self.df = train_eda\n",
    "        self.target = target\n",
    "        self._create_plots()\n",
    "        self._calculate_iqr()\n",
    "        \n",
    "    def _create_plots(self):\n",
    "        '''create boxplot and distplot'''\n",
    "        plt.figure(figsize=(14,6))\n",
    "        plt.subplot(1,2,1)\n",
    "        sns.boxplot(self.df[self.target])\n",
    "        plt.subplot(1,2,2)\n",
    "        sns.distplot(self.df[self.target], bins=20)\n",
    "        plt.show()\n",
    "        \n",
    "    def _calculate_iqr(self):\n",
    "        '''calculate iqr'''\n",
    "        stat = self.df[self.target].describe()\n",
    "        IQR = stat['75%'] - stat['25%']\n",
    "        upper = stat['75%'] + 1.5 * IQR\n",
    "        lower = stat['25%'] - 1.5 * IQR\n",
    "        print('The upper and lower bounds for potential outliers are {} and {}.'.format(upper,lower))\n",
    "\n",
    "tv = TargetVisualization(data.train_eda, col_target)"
   ]
  },
  {
   "cell_type": "code",
   "execution_count": 33,
   "metadata": {},
   "outputs": [
    {
     "data": {
      "image/png": "[encoded data removed]",
      "text/plain": [
       "<Figure size 864x468 with 1 Axes>"
      ]
     },
     "metadata": {
      "needs_background": "light"
     },
     "output_type": "display_data"
    }
   ],
   "source": [
    "bp.create_boxplot('jobType', 'Salary by Job Type')"
   ]
  },
  {
   "cell_type": "code",
   "execution_count": 34,
   "metadata": {},
   "outputs": [
    {
     "data": {
      "image/png": "[encoded data removed]",
      "text/plain": [
       "<Figure size 864x468 with 1 Axes>"
      ]
     },
     "metadata": {
      "needs_background": "light"
     },
     "output_type": "display_data"
    }
   ],
   "source": [
    "bp.create_boxplot('milesFromMetropolis', 'Salary by Miles')"
   ]
  },
  {
   "cell_type": "code",
   "execution_count": 35,
   "metadata": {},
   "outputs": [
    {
     "data": {
      "image/png": "[encoded data removed]",
      "text/plain": [
       "<Figure size 864x468 with 1 Axes>"
      ]
     },
     "metadata": {
      "needs_background": "light"
     },
     "output_type": "display_data"
    }
   ],
   "source": [
    "bp.create_boxplot('degree', 'Salary by Degree')"
   ]
  },
  {
   "cell_type": "code",
   "execution_count": 36,
   "metadata": {},
   "outputs": [
    {
     "data": {
      "image/png": "[encoded data removed]",
      "text/plain": [
       "<Figure size 864x468 with 1 Axes>"
      ]
     },
     "metadata": {
      "needs_background": "light"
     },
     "output_type": "display_data"
    }
   ],
   "source": [
    "bp.create_boxplot('major', 'Salary by Major')"
   ]
  },
  {
   "cell_type": "code",
   "execution_count": 37,
   "metadata": {},
   "outputs": [
    {
     "data": {
      "image/png": "[encoded data removed]",
      "text/plain": [
       "<Figure size 864x468 with 1 Axes>"
      ]
     },
     "metadata": {
      "needs_background": "light"
     },
     "output_type": "display_data"
    }
   ],
   "source": [
    "bp.create_boxplot('industry', 'Salary by Industry')"
   ]
  },
  {
   "cell_type": "markdown",
   "metadata": {},
   "source": [
    "### ---- 11 Automate pipeline ----"
   ]
  },
  {
   "cell_type": "code",
   "execution_count": 38,
   "metadata": {},
   "outputs": [],
   "source": [
    "#write script that trains model on entire training set, saves model to disk,\n",
    "#and scores the \"test\" dataset"
   ]
  },
  {
   "cell_type": "code",
   "execution_count": null,
   "metadata": {},
   "outputs": [],
   "source": []
  }
 ],
 "metadata": {
  "kernelspec": {
   "display_name": "Python 3",
   "language": "python",
   "name": "python3"
  },
  "language_info": {
   "codemirror_mode": {
    "name": "ipython",
    "version": 3
   },
   "file_extension": ".py",
   "mimetype": "text/x-python",
   "name": "python",
   "nbconvert_exporter": "python",
   "pygments_lexer": "ipython3",
   "version": "3.7.4"
  }
 },
 "nbformat": 4,
 "nbformat_minor": 2
}
