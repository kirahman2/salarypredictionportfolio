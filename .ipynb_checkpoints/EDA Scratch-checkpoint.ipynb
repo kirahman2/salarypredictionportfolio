{
 "cells": [
  {
   "cell_type": "code",
   "execution_count": 14,
   "metadata": {},
   "outputs": [
    {
     "name": "stderr",
     "output_type": "stream",
     "text": [
      "/Users/krahman/opt/anaconda3/lib/python3.7/site-packages/sklearn/externals/joblib/__init__.py:15: DeprecationWarning: sklearn.externals.joblib is deprecated in 0.21 and will be removed in 0.23. Please import this functionality directly from joblib, which can be installed with: pip install joblib. If this warning is raised when loading pickled models, you may need to re-serialize those models with scikit-learn 0.21+.\n",
      "  warnings.warn(msg, category=DeprecationWarning)\n"
     ]
    }
   ],
   "source": [
    "#!/usr/bin/env python3\n",
    "#import your libraries\n",
    "import pandas as pd\n",
    "import sklearn as sk\n",
    "import numpy as np\n",
    "import seaborn as sns\n",
    "import matplotlib.pyplot as plt\n",
    "from sklearn.metrics import mean_squared_error\n",
    "from sklearn.model_selection import cross_val_score\n",
    "from sklearn.preprocessing import LabelEncoder\n",
    "from sklearn.model_selection import train_test_split\n",
    "from sklearn.ensemble import GradientBoostingRegressor\n",
    "from sklearn.ensemble import RandomForestRegressor\n",
    "import xgboost as xgb\n",
    "from sklearn.model_selection import RandomizedSearchCV\n",
    "from sklearn.model_selection import GridSearchCV\n",
    "from sklearn.utils import shuffle\n",
    "from sklearn.externals import joblib\n",
    "import time\n",
    "import pickle\n",
    "import os\n",
    "import warnings\n",
    "warnings.filterwarnings(\"ignore\")"
   ]
  },
  {
   "cell_type": "code",
   "execution_count": 15,
   "metadata": {},
   "outputs": [],
   "source": [
    "# sns.pairplot(data.train_eda, kind='reg')\n",
    "# sns.pairplot(data.train_eda)"
   ]
  },
  {
   "cell_type": "code",
   "execution_count": 16,
   "metadata": {},
   "outputs": [],
   "source": [
    "# NEED DATA OBJECT TO RUN"
   ]
  },
  {
   "cell_type": "code",
   "execution_count": 17,
   "metadata": {},
   "outputs": [],
   "source": [
    "# Load data\n",
    "train_features_df = pd.read_csv('/Users/krahman/work/salarypredictionportfolio/data/train_features.csv')\n",
    "train_target_df = pd.read_csv('/Users/krahman/work/salarypredictionportfolio/data/train_salaries.csv')\n",
    "test_features_df = pd.read_csv('/Users/krahman/work/salarypredictionportfolio/data/test_features.csv')"
   ]
  },
  {
   "cell_type": "code",
   "execution_count": 18,
   "metadata": {},
   "outputs": [],
   "source": [
    "train_file = '/Users/krahman/work/salarypredictionportfolio_old/data/train_features.csv'\n",
    "test_file = '/Users/krahman/work/salarypredictionportfolio_old/data/test_features.csv'\n",
    "target_file = '/Users/krahman/work/salarypredictionportfolio_old/data/train_salaries.csv'\n",
    "col_cat = ['companyId', 'jobType', 'degree', 'major', 'industry']\n",
    "col_num = ['milesFromMetropolis', 'yearsExperience']\n",
    "col_all = col_cat + col_num\n",
    "col_id = 'jobId'\n",
    "col_target = 'salary'\n",
    "\n",
    "set_cv = 2\n",
    "num_proc = -1\n",
    "save_best_model = False\n",
    "load_best_model = True\n",
    "dir_pred = '/Users/krahman/work/salarypredictionportfolio/predictions/test_salaries.csv'\n",
    "model_container = {}"
   ]
  },
  {
   "cell_type": "code",
   "execution_count": 19,
   "metadata": {},
   "outputs": [],
   "source": [
    "class Data:\n",
    "    def __init__(self):\n",
    "        '''create train and test dataframes'''\n",
    "        self.col_num = col_num\n",
    "        self.col_all = col_cat + col_num\n",
    "        self.train_eda = pd.DataFrame()\n",
    "        self.train_raw = pd.DataFrame()\n",
    "        self.test_raw = pd.DataFrame()\n",
    "        self.train_df = self._create_train_df(train_file)\n",
    "        self.test_df = self._create_test_df()\n",
    "\n",
    "    def _create_train_df(self, train_df):\n",
    "        '''create train dataframe'''\n",
    "        target = self.load_file(target_file)\n",
    "        df_train = self.load_file(train_df)\n",
    "        df_train = self._join_df(df_train, target)\n",
    "        df_train = self._correct_data(df_train)\n",
    "        self.train_eda = df_train\n",
    "        df_train = self.clean_data(df_train)\n",
    "        df_train = self.shuffle_data(df_train)\n",
    "        self.train_raw = df_train\n",
    "        df_train = self.label_encode(df_train)\n",
    "        return df_train\n",
    "\n",
    "    def _create_test_df(self):\n",
    "        '''create test dataframe'''\n",
    "        df_test = self.load_file(test_file)\n",
    "        df_test = self._correct_data(df_test)\n",
    "        self.test_raw = df_test\n",
    "        df_test = self.label_encode(df_test)\n",
    "        return df_test\n",
    "\n",
    "    def shuffle_data(self, dataframe):\n",
    "        '''shuffling data'''\n",
    "        return shuffle(dataframe, random_state=42).reset_index(drop=True)\n",
    "\n",
    "    def clean_data(self, dataframe):\n",
    "        '''remove outliers from data'''\n",
    "        return dataframe[(dataframe.salary > 8) & (dataframe.salary < 220)]\n",
    "\n",
    "    def _correct_data(self, dataframe):\n",
    "        '''correcting data values'''\n",
    "        list_index = dataframe[(dataframe['degree'] != 'HIGH_SCHOOL')\n",
    "                               & (dataframe['degree'] != 'NONE')\n",
    "                               & (dataframe['major'] == 'NONE')\n",
    "                              ].index\n",
    "        dataframe.loc[list_index, 'major'] = 'MISSING'\n",
    "        return dataframe\n",
    "\n",
    "    def label_encode(self, dataframe):\n",
    "        '''label encode dataframes'''\n",
    "        labelencode = LabelEncoder()\n",
    "        for val in col_cat:\n",
    "            dataframe[val] = labelencode.fit_transform(dataframe[val])\n",
    "        return dataframe\n",
    "\n",
    "    def _join_df(self, train_df, target):\n",
    "        '''join train and target dataframes'''\n",
    "        return pd.merge(train_df, target, on=col_id, how='inner')\n",
    "\n",
    "    def load_file(self, file):\n",
    "        '''load files'''\n",
    "        return pd.read_csv(file)"
   ]
  },
  {
   "cell_type": "code",
   "execution_count": 20,
   "metadata": {},
   "outputs": [],
   "source": [
    "data = Data()"
   ]
  },
  {
   "cell_type": "code",
   "execution_count": 21,
   "metadata": {},
   "outputs": [
    {
     "data": {
      "image/png": "[encoded data removed]",
      "text/plain": [
       "<Figure size 864x468 with 1 Axes>"
      ]
     },
     "metadata": {
      "needs_background": "light"
     },
     "output_type": "display_data"
    }
   ],
   "source": [
    "### Delete\n",
    "df_temp = data.train_eda\n",
    "df_temp = df_temp[df_temp['degree']=='DOCTORAL']\n",
    "plt.subplots(figsize=(12,6.5))\n",
    "plt.title('Salary by Industry for Doctorals')\n",
    "# sns.boxplot('industry', 'salary', data=df_temp, width=.3, color='#eeefff')\n",
    "# plt.palplot(sns.color_palette(\"hls\", 8))\n",
    "sns.boxplot('industry', 'salary', data=df_temp, width=.3);"
   ]
  },
  {
   "cell_type": "code",
   "execution_count": 22,
   "metadata": {},
   "outputs": [
    {
     "data": {
      "text/plain": [
       "<matplotlib.axes._subplots.AxesSubplot at 0x1a239ed050>"
      ]
     },
     "execution_count": 22,
     "metadata": {},
     "output_type": "execute_result"
    },
    {
     "data": {
      "image/png": "[encoded data removed]",
      "text/plain": [
       "<Figure size 864x468 with 1 Axes>"
      ]
     },
     "metadata": {
      "needs_background": "light"
     },
     "output_type": "display_data"
    }
   ],
   "source": [
    "# Delete\n",
    "df_temp = data.train_eda\n",
    "df_temp = df_temp[df_temp['degree']=='NONE']\n",
    "plt.subplots(figsize=(12,6.5))\n",
    "plt.title('Salary by Industry for No Degree')\n",
    "sns.boxplot('industry', 'salary', data=df_temp, width=.3)"
   ]
  },
  {
   "cell_type": "code",
   "execution_count": 23,
   "metadata": {},
   "outputs": [
    {
     "data": {
      "text/plain": [
       "<matplotlib.axes._subplots.AxesSubplot at 0x1a23e9f910>"
      ]
     },
     "execution_count": 23,
     "metadata": {},
     "output_type": "execute_result"
    },
    {
     "data": {
      "image/png": "[encoded data removed]",
      "text/plain": [
       "<Figure size 864x468 with 1 Axes>"
      ]
     },
     "metadata": {
      "needs_background": "light"
     },
     "output_type": "display_data"
    }
   ],
   "source": [
    "# Delete\n",
    "df_temp = data.train_eda\n",
    "df_temp1 = df_temp[df_temp['companyId']=='COMP37']\n",
    "df_temp1 = data.clean_data(df_temp1)\n",
    "df_temp2 = df_temp[df_temp['companyId']=='COMP19']\n",
    "df_temp2 = data.clean_data(df_temp2)\n",
    "\n",
    "plt.subplots(figsize=(12,6.5))\n",
    "plt.title('Salary by COMP37')\n",
    "sns.boxplot('jobType', 'salary', data=df_temp1, width=.3)"
   ]
  },
  {
   "cell_type": "code",
   "execution_count": 24,
   "metadata": {},
   "outputs": [
    {
     "data": {
      "text/plain": [
       "123.89683773976154"
      ]
     },
     "execution_count": 24,
     "metadata": {},
     "output_type": "execute_result"
    },
    {
     "data": {
      "image/png": "[encoded data removed]",
      "text/plain": [
       "<Figure size 432x288 with 1 Axes>"
      ]
     },
     "metadata": {
      "needs_background": "light"
     },
     "output_type": "display_data"
    }
   ],
   "source": [
    "# f, axes = plt.subplots(2,1, figsize=(8,8), sharex=False)\n",
    "sns.boxplot(df_temp1[df_temp1['jobType']=='VICE_PRESIDENT'].salary).set_title('Comp19 Vice President Salary');\n",
    "df_temp1[df_temp1['jobType']=='VICE_PRESIDENT'].salary.mean()"
   ]
  },
  {
   "cell_type": "code",
   "execution_count": 25,
   "metadata": {},
   "outputs": [
    {
     "data": {
      "text/plain": [
       "124.23324808184144"
      ]
     },
     "execution_count": 25,
     "metadata": {},
     "output_type": "execute_result"
    },
    {
     "data": {
      "image/png": "[encoded data removed]",
      "text/plain": [
       "<Figure size 432x288 with 1 Axes>"
      ]
     },
     "metadata": {
      "needs_background": "light"
     },
     "output_type": "display_data"
    }
   ],
   "source": [
    "sns.boxplot(df_temp2[df_temp2['jobType']=='VICE_PRESIDENT'].salary).set_title('Comp37 Vice President Salary');\n",
    "df_temp2[df_temp2['jobType']=='VICE_PRESIDENT'].salary.mean()"
   ]
  },
  {
   "cell_type": "code",
   "execution_count": 26,
   "metadata": {},
   "outputs": [
    {
     "data": {
      "text/plain": [
       "<matplotlib.axes._subplots.AxesSubplot at 0x10fd7f5d0>"
      ]
     },
     "execution_count": 26,
     "metadata": {},
     "output_type": "execute_result"
    },
    {
     "data": {
      "image/png": "[encoded data removed]",
      "text/plain": [
       "<Figure size 864x468 with 1 Axes>"
      ]
     },
     "metadata": {
      "needs_background": "light"
     },
     "output_type": "display_data"
    }
   ],
   "source": [
    "# Delete\n",
    "plt.subplots(figsize=(12,6.5))\n",
    "plt.title('Salary by COMP37')\n",
    "sns.boxplot('jobType', 'salary', data=df_temp2, width=.3)"
   ]
  },
  {
   "cell_type": "code",
   "execution_count": null,
   "metadata": {},
   "outputs": [],
   "source": [
    "# delete\n",
    "list_df3 = data.train_eda.companyId.unique()\n",
    "df_temp3 = data.train_eda\n",
    "list_compname = []\n",
    "list_comp = []\n",
    "for val in list_df3:\n",
    "    list_comp.append(df_temp3[df_temp3['companyId']==val].shape[0])\n",
    "    list_compname.append(val)\n",
    "pd.DataFrame(list_comp,list_compname)\n",
    "df_comp = pd.DataFrame(list_comp, columns=['comp_shape'])\n",
    "df_compname = pd.DataFrame(list_compname, columns=['comp_name'])\n",
    "df_comp2 = pd.concat([df_compname, df_comp],axis=1)\n",
    "plt.plot(df_comp2['comp_shape']);\n",
    "plt.ylabel('# of Records')\n",
    "plt.xlabel('CompId');"
   ]
  },
  {
   "cell_type": "code",
   "execution_count": null,
   "metadata": {},
   "outputs": [],
   "source": [
    "# delete\n",
    "list_df3 = data.train_eda.companyId.unique()\n",
    "df_temp3 = data.train_eda\n",
    "list_compname = []\n",
    "list_comp = []\n",
    "for val in list_df3:\n",
    "    list_comp.append(df_temp3[df_temp3['companyId']==val].salary.mean())\n",
    "    list_compname.append(val)\n",
    "pd.DataFrame(list_comp,list_compname)\n",
    "df_comp = pd.DataFrame(list_comp, columns=['comp_shape'])\n",
    "df_compname = pd.DataFrame(list_compname, columns=['comp_name'])\n",
    "df_comp2 = pd.concat([df_compname, df_comp],axis=1)\n",
    "plt.plot(df_comp2['comp_shape']);\n",
    "plt.ylabel('Salary (thousands)')\n",
    "plt.xlabel('CompId');\n",
    "plt.title('Average Salary by Company Id')\n",
    "df_comp2.describe()"
   ]
  },
  {
   "cell_type": "code",
   "execution_count": null,
   "metadata": {},
   "outputs": [],
   "source": [
    "df_temp3[df_temp3['companyId']=='COMP23'].salary.mean()"
   ]
  },
  {
   "cell_type": "code",
   "execution_count": null,
   "metadata": {},
   "outputs": [],
   "source": [
    "# we want to see the earnings of PhD's for each industry\n",
    "df_degree= data.train_eda\n",
    "df_degree = df_degree[df_degree['degree']=='DOCTORAL']\n",
    "sns.boxplot(x='industry', y='salary', data=df_degree);"
   ]
  },
  {
   "cell_type": "code",
   "execution_count": null,
   "metadata": {},
   "outputs": [],
   "source": [
    "list_df3 = data.train_eda.companyId.unique()\n",
    "df_temp3 = data.train_eda\n",
    "list_compname = []\n",
    "list_comp = []\n",
    "for val in list_df3:\n",
    "    list_comp.append(df_temp3[df_temp3['companyId']==val].milesFromMetropolis.mean())\n",
    "    list_compname.append(val)\n",
    "pd.DataFrame(list_comp,list_compname)\n",
    "df_comp = pd.DataFrame(list_comp, columns=['compid_miles'])\n",
    "df_compname = pd.DataFrame(list_compname, columns=['comp_name'])\n",
    "df_comp2 = pd.concat([df_compname, df_comp],axis=1)\n",
    "plt.plot(df_comp2['compid_miles']);\n",
    "plt.ylabel('Mean Distance (miles)')\n",
    "plt.xlabel('CompId');\n",
    "df_comp2.describe()"
   ]
  },
  {
   "cell_type": "code",
   "execution_count": null,
   "metadata": {},
   "outputs": [],
   "source": [
    "plt.plot(df_comp2['comp_shape']);\n",
    "plt.ylabel('distance (miles)')\n",
    "plt.xlabel('CompId');\n",
    "df_comp2.describe()"
   ]
  },
  {
   "cell_type": "code",
   "execution_count": null,
   "metadata": {},
   "outputs": [],
   "source": [
    "# delete\n",
    "# plot the average salary for each ceo for each companyId\n",
    "# we need to look at average ceo earnings by company\n",
    "\n",
    "print(df_temp1[df_temp1['jobType']=='CEO']['salary'].mean())\n",
    "print(df_temp2[df_temp2['jobType']=='CEO']['salary'].mean())"
   ]
  },
  {
   "cell_type": "code",
   "execution_count": null,
   "metadata": {},
   "outputs": [],
   "source": []
  }
 ],
 "metadata": {
  "kernelspec": {
   "display_name": "Python 3",
   "language": "python",
   "name": "python3"
  },
  "language_info": {
   "codemirror_mode": {
    "name": "ipython",
    "version": 3
   },
   "file_extension": ".py",
   "mimetype": "text/x-python",
   "name": "python",
   "nbconvert_exporter": "python",
   "pygments_lexer": "ipython3",
   "version": "3.7.4"
  }
 },
 "nbformat": 4,
 "nbformat_minor": 2
}
